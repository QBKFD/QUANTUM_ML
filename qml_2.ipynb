{
 "cells": [
  {
   "cell_type": "markdown",
   "id": "f7e68f36",
   "metadata": {},
   "source": [
    "# The X Gate\n",
    "\n",
    "The Pauli-X gate is one of the fundamental single-qubit quantum gates. It acts as a quantum NOT operation, flipping the state of a qubit from \\(|0\\rangle\\) to \\(|1\\rangle\\) and vice versa.\n",
    "\n",
    "Its matrix representation is:\n",
    "\n",
    "$$\n",
    "X = \\begin{bmatrix} 0 & 1 \\\\ 1 & 0 \\end{bmatrix}\n",
    "$$\n",
    "\n",
    "Applying this gate to the state $\\ket{0}$ yields $\\ket{1}$, and vice versa. \n",
    "In PennyLane, this is implemented using `qml.PauliX`.\n",
    "\n",
    "We call it also as `NOT Gate` or `bit-flip`.\n",
    "\n",
    "$$ \\sigma_x \\ket{0} = \\ket{1} \\,\\,\\, \\sigma_x\\ket{1} = \\ket{0} $$"
   ]
  },
  {
   "cell_type": "code",
   "execution_count": null,
   "id": "4a0ceef8",
   "metadata": {},
   "outputs": [],
   "source": [
    "import pennylane as qml\n",
    "from pennylane import numpy as np\n",
    "\n",
    "dev = qml.device(\"default.qubit\", wires=1)\n",
    "\n",
    "@qml.qnode(dev)\n",
    "def x_gate_circuit():\n",
    "    #qml.PauliX(wires=0)\n",
    "    qml.X(wires=0)\n",
    "    return qml.state()\n",
    "\n",
    "print(x_gate_circuit())"
   ]
  },
  {
   "cell_type": "code",
   "execution_count": null,
   "id": "9a6b2f8e",
   "metadata": {},
   "outputs": [],
   "source": [
    "qml.draw_mpl(x_gate_circuit)()"
   ]
  },
  {
   "cell_type": "code",
   "execution_count": null,
   "id": "60a7cc9e",
   "metadata": {},
   "outputs": [],
   "source": [
    "dev = qml.device(\"default.qubit\", wires=1)\n",
    "@qml.qnode(dev)\n",
    "def qc():\n",
    "    qml.PauliX(wires=0)\n",
    "    qml.X(wires=0)\n",
    "    return qml.state()\n",
    "\n",
    "qc()"
   ]
  },
  {
   "cell_type": "code",
   "execution_count": null,
   "id": "5ba8ba51",
   "metadata": {},
   "outputs": [],
   "source": [
    "qml.draw_mpl(qc)()"
   ]
  },
  {
   "cell_type": "markdown",
   "id": "e4e377a5",
   "metadata": {},
   "source": [
    "# RX\n",
    "\n",
    "The RX gate is a parameterized single-qubit gate that performs a rotation around the X-axis of the Bloch sphere by an angle $\\theta$.\n",
    "\n",
    "Its unitary matrix is:\n",
    "\n",
    "$$\n",
    "RX(\\theta) = \\exp\\left(-i \\frac{\\theta}{2} X\\right) =\n",
    "\\begin{bmatrix}\n",
    "\\cos(\\frac{\\theta}{2}) & -i \\sin(\\frac{\\theta}{2}) \\\\\n",
    "-i \\sin(\\frac{\\theta}{2}) & \\cos(\\frac{\\theta}{2})\n",
    "\\end{bmatrix}\n",
    "$$\n",
    "\n",
    "When $\\theta = \\pi$, the gate behaves exactly like a Pauli-X gate. \n",
    "\n",
    "This gate is implemented in PennyLane as `qml.RX(theta, wires=...)`."
   ]
  },
  {
   "cell_type": "code",
   "execution_count": null,
   "id": "f88007cf",
   "metadata": {},
   "outputs": [],
   "source": [
    "@qml.qnode(dev)\n",
    "def param_x_gate(theta):\n",
    "    qml.RX(theta, wires=0)\n",
    "    return qml.probs()\n",
    "\n",
    "theta = np.pi\n",
    "print(param_x_gate(theta))"
   ]
  },
  {
   "cell_type": "markdown",
   "id": "f479de5a",
   "metadata": {},
   "source": [
    "Instead of using built-in gates, PennyLane allows defining custom unitary operations using `qml.QubitUnitary`. Here, we directly define the Pauli-X matrix:\n",
    "\n",
    "$$\n",
    "X = \\begin{bmatrix} 0 & 1 \\\\ 1 & 0 \\end{bmatrix}\n",
    "$$\n",
    "\n",
    "This method is useful when you want to construct arbitrary or composite gates from scratch, or when defining gates that are not included by default in the PennyLane library."
   ]
  },
  {
   "cell_type": "code",
   "execution_count": null,
   "id": "e98f74b4",
   "metadata": {},
   "outputs": [],
   "source": [
    "X_matrix = np.array([[0, 1],\n",
    "                     [1, 0]])\n",
    "\n",
    "@qml.qnode(dev)\n",
    "def custom_x_gate():\n",
    "    qml.QubitUnitary(X_matrix, wires=0)\n",
    "    return qml.state()\n",
    "\n",
    "print(custom_x_gate())"
   ]
  },
  {
   "cell_type": "markdown",
   "id": "1444cdac",
   "metadata": {},
   "source": [
    "We can define the RX gate manually by constructing its matrix and passing it to `qml.QubitUnitary`. \n",
    "\n",
    "The RX gate rotates the qubit around the X-axis of the Bloch sphere by angle $\\theta$:\n",
    "\n",
    "$$\n",
    "RX(\\theta) =\n",
    "\\begin{bmatrix}\n",
    "\\cos(\\frac{\\theta}{2}) & -i \\sin(\\frac{\\theta}{2}) \\\\\n",
    "-i \\sin(\\frac{\\theta}{2}) & \\cos(\\frac{\\theta}{2})\n",
    "\\end{bmatrix}\n",
    "$$\n",
    "\n",
    "This manual construction is useful when studying the internal structure of gates or when using gate definitions from custom sources."
   ]
  },
  {
   "cell_type": "code",
   "execution_count": null,
   "id": "70b5ff76",
   "metadata": {},
   "outputs": [],
   "source": [
    "def RX_matrix(theta):\n",
    "    return np.array([\n",
    "        [np.cos(theta/2), -1j*np.sin(theta/2)],\n",
    "        [-1j*np.sin(theta/2), np.cos(theta/2)]\n",
    "    ])\n",
    "\n",
    "@qml.qnode(dev)\n",
    "def custom_rx(theta):\n",
    "    qml.QubitUnitary(RX_matrix(theta), wires=0)\n",
    "    return qml.state()\n",
    "\n",
    "print(custom_rx(np.pi/2))"
   ]
  },
  {
   "cell_type": "markdown",
   "id": "630c6508",
   "metadata": {},
   "source": [
    "# The Z gate\n",
    "\n",
    "The Pauli-Z gate is one of the three fundamental single-qubit Pauli operators. \n",
    "\n",
    "It leaves the $\\ket{0}$ state unchanged and applies a phase of $-1$ to the $\\ket{1}$ state.\n",
    "\n",
    "Its matrix representation is:\n",
    "\n",
    "$$\n",
    "Z = \\begin{bmatrix}\n",
    "1 & 0 \\\\\n",
    "0 & -1\n",
    "\\end{bmatrix}\n",
    "$$\n",
    "\n",
    "This gate performs a reflection over the Z-axis of the Bloch sphere, effectively flipping the phase of the qubit when it is in superposition. \n",
    "\n",
    "In PennyLane, this is implemented using `qml.PauliZ`."
   ]
  },
  {
   "cell_type": "code",
   "execution_count": null,
   "id": "9027901e",
   "metadata": {},
   "outputs": [],
   "source": [
    "import pennylane as qml\n",
    "from pennylane import numpy as np\n",
    "\n",
    "dev = qml.device(\"default.qubit\", wires=1)\n",
    "\n",
    "@qml.qnode(dev)\n",
    "def z_gate_circuit():\n",
    "    qml.PauliX(wires=0)\n",
    "    qml.PauliZ(wires=0)\n",
    "    return qml.state()\n",
    "\n",
    "print(z_gate_circuit())"
   ]
  },
  {
   "cell_type": "markdown",
   "id": "c0b19629",
   "metadata": {},
   "source": [
    "The RZ gate is a parameterized single-qubit gate that performs a rotation around the Z-axis of the Bloch sphere by an angle $\\theta$.\n",
    "\n",
    "Its matrix form is:\n",
    "\n",
    "$$\n",
    "RZ(\\theta) = \\exp\\left(-i \\frac{\\theta}{2} Z\\right) =\n",
    "\\begin{bmatrix}\n",
    "e^{-i\\theta/2} & 0 \\\\\n",
    "0 & e^{i\\theta/2}\n",
    "\\end{bmatrix}\n",
    "$$\n",
    "\n",
    "This gate adds a relative phase between the computational basis states $\\ket{0}$ and $\\ket{1}$, and is essential for constructing arbitrary single-qubit unitaries.\n",
    " In PennyLane, it is implemented as `qml.RZ(theta, wires=...)`."
   ]
  },
  {
   "cell_type": "code",
   "execution_count": null,
   "id": "c30b079c",
   "metadata": {},
   "outputs": [],
   "source": [
    "@qml.qnode(dev)\n",
    "def rz_gate_circuit(theta):\n",
    "    qml.RZ(theta, wires=0)\n",
    "    return qml.state()\n",
    "\n",
    "theta = np.pi / 4\n",
    "print(rz_gate_circuit(theta))"
   ]
  },
  {
   "cell_type": "code",
   "execution_count": null,
   "id": "458bd8ad",
   "metadata": {},
   "outputs": [],
   "source": [
    "dev = qml.device(\"default.qubit\", wires=1)\n",
    "@qml.qnode(dev)\n",
    "def qc():\n",
    "    qml.PauliX(wires=0)\n",
    "    qml.PauliZ(wires=0)\n",
    "    return qml.state()\n",
    "    #return qml.probs()\n",
    "\n",
    "qc()"
   ]
  },
  {
   "cell_type": "code",
   "execution_count": null,
   "id": "5154d018",
   "metadata": {},
   "outputs": [],
   "source": [
    "dev = qml.device(\"default.qubit\", wires=1)\n",
    "@qml.qnode(dev)\n",
    "def qc():\n",
    "    qml.PauliZ(wires=0)\n",
    "    qml.PauliX(wires=0)\n",
    "    return qml.state()\n",
    "    #return qml.probs()\n",
    "\n",
    "qc()"
   ]
  },
  {
   "cell_type": "markdown",
   "id": "df8c601c",
   "metadata": {},
   "source": [
    "# Hadamard Gate (H)\n",
    "\n",
    "The Hadamard gate is a single-qubit quantum gate that creates superposition. It transforms the computational basis states $\\ket{0}$ and $\\ket{1}$ into equal superpositions:\n",
    "\n",
    "$$\n",
    "H|0\\rangle = \\frac{|0\\rangle + |1\\rangle}{\\sqrt{2}}, \\quad H|1\\rangle = \\frac{|0\\rangle - |1\\rangle}{\\sqrt{2}}\n",
    "$$\n",
    "\n",
    "Applying a Hadamard gate to a qubit initialized in state $\\ket{0}$ produces a balanced superposition of  $\\ket{0}$ and $\\ket{1}$.\n"
   ]
  },
  {
   "cell_type": "code",
   "execution_count": null,
   "id": "bd61d159",
   "metadata": {},
   "outputs": [],
   "source": [
    "import pennylane as qml\n",
    "from pennylane import numpy as np\n",
    "\n",
    "dev = qml.device(\"default.qubit\", wires=1)\n",
    "\n",
    "@qml.qnode(dev)\n",
    "def hadamard_circuit(init_state=0):\n",
    "    if init_state == 1:\n",
    "        qml.PauliX(wires=0)\n",
    "    \n",
    "    qml.Hadamard(wires=0)\n",
    "    \n",
    "    return qml.probs()\n",
    "\n",
    "print(\"Hadamard on |0>:\")\n",
    "print(hadamard_circuit(init_state=0))\n",
    "print(\"Hadamard on |1>:\")\n",
    "print(hadamard_circuit(init_state=1))"
   ]
  },
  {
   "cell_type": "code",
   "execution_count": null,
   "id": "a6d51ecb",
   "metadata": {},
   "outputs": [],
   "source": [
    "dev = qml.device(\"default.qubit\", wires=1)\n",
    "@qml.qnode(dev)\n",
    "\n",
    "\n",
    "def qc():\n",
    "    qml.Hadamard(wires=0)\n",
    "    qml.Hadamard(wires=0)\n",
    "    return qml.state()\n",
    "\n",
    "qml.draw_mpl(qc)()\n",
    "qc()"
   ]
  },
  {
   "cell_type": "code",
   "execution_count": null,
   "id": "f8a804c2",
   "metadata": {},
   "outputs": [],
   "source": [
    "n_qubits = 8\n",
    "\n",
    "dev = qml.device(\"default.qubit\", wires=n_qubits, shots=5)\n",
    "@qml.qnode(dev)\n",
    "def qc():\n",
    "    for i in range(n_qubits):\n",
    "        qml.Hadamard(wires=i)\n",
    "    return qml.sample()\n",
    "\n",
    "qml.draw_mpl(qc)()\n",
    "qc()"
   ]
  },
  {
   "cell_type": "code",
   "execution_count": null,
   "id": "203805ad",
   "metadata": {},
   "outputs": [],
   "source": [
    "dev = qml.device(\"default.qubit\", wires=1)\n",
    "@qml.qnode(dev)\n",
    "\n",
    "\n",
    "def qc(state):\n",
    "    if state==1:\n",
    "        qml.X(wires=0)\n",
    "    qml.Hadamard(wires=0)\n",
    "    qml.PauliX(wires=0)\n",
    "    qml.Hadamard(wires=0)\n",
    "    return qml.state()\n",
    "\n"
   ]
  },
  {
   "cell_type": "code",
   "execution_count": null,
   "id": "8a0aa54c",
   "metadata": {},
   "outputs": [],
   "source": [
    "qc(0), qc(1)"
   ]
  },
  {
   "cell_type": "markdown",
   "id": "5331d3a3",
   "metadata": {},
   "source": [
    "## Phase\n",
    "\n",
    "⚛️ Key Insight\n",
    "\n",
    "Quantum phase becomes measurable when it influences interference patterns between amplitudes.\n",
    "\n",
    "This happens in circuits with:\n",
    "\n",
    "- Superpositions (e.g., Hadamard gates),\n",
    "- Entanglement (e.g., CNOT interactions),\n",
    "- Interferometric setups (e.g., two Hadamards with a phase shift in between).\n",
    "\n",
    "A global phase like -i (from $RX(\\pi))$ becomes locally relevant if it interacts with another branch of the wavefunction — e.g., through a Hadamard gate.\n"
   ]
  },
  {
   "cell_type": "code",
   "execution_count": null,
   "id": "fba2139a",
   "metadata": {},
   "outputs": [],
   "source": [
    "import pennylane as qml\n",
    "from pennylane import numpy as np\n",
    "\n",
    "dev = qml.device(\"default.qubit\", wires=1)\n",
    "\n",
    "@qml.qnode(dev)\n",
    "def no_phase():\n",
    "    qml.Hadamard(wires=0)\n",
    "    qml.Hadamard(wires=0)\n",
    "    return qml.probs(wires=0)\n",
    "\n",
    "@qml.qnode(dev)\n",
    "def with_phase(phi):\n",
    "    qml.Hadamard(wires=0)\n",
    "    qml.RZ(phi, wires=0)  # phase \n",
    "    qml.Hadamard(wires=0)\n",
    "    return qml.probs(wires=0)\n",
    "\n",
    "print(\"no phase:\", no_phase())\n",
    "print(\"with phase π/2:\", with_phase(np.pi/2))\n",
    "print(\"with phase π:\", with_phase(np.pi))"
   ]
  },
  {
   "cell_type": "markdown",
   "id": "a3104045",
   "metadata": {},
   "source": [
    "🧠 Summary: When and Why Quantum Phase Matters\n",
    "\n",
    "In quantum computing, global phase is usually considered irrelevant — it doesn’t affect measurement probabilities in isolated systems.\n",
    "However, phase can become physically meaningful in certain contexts, especially when interference is involved."
   ]
  },
  {
   "cell_type": "markdown",
   "id": "a29a37c6",
   "metadata": {},
   "source": [
    "# CNOT Gate (Controlled-NOT)\n",
    "\n",
    "The CNOT gate is a two-qubit gate with one control qubit and one target qubit. \n",
    "\n",
    "It flips (applies a NOT operation) the target qubit if the control qubit is in state $\\ket{1}$, and does nothing otherwise:\n",
    "\n",
    "$$\n",
    "\\text{CNOT} |c, t\\rangle = |c, t \\oplus c\\rangle\n",
    "$$\n",
    "\n",
    "where $c$ is the control qubit, $t$ is the target qubit, and $\\oplus$ denotes XOR (bit-flip).\n",
    "\n",
    "The CNOT gate is essential for creating entanglement between qubits.\n",
    "\n"
   ]
  },
  {
   "cell_type": "code",
   "execution_count": null,
   "id": "c8955566",
   "metadata": {},
   "outputs": [],
   "source": [
    "import pennylane as qml\n",
    "from pennylane import numpy as np\n",
    "\n",
    "# Define a 2-qubit quantum device\n",
    "dev = qml.device(\"default.qubit\", wires=2)\n",
    "\n",
    "@qml.qnode(dev)\n",
    "def circuit():\n",
    "    qml.PauliX(wires=0)\n",
    "    # Apply CNOT gate with control qubit 0 and target qubit 1\n",
    "    qml.CNOT(wires=[0,1])\n",
    "    \n",
    "    # Return the quantum state vector\n",
    "    return qml.probs()\n",
    "\n",
    "# Execute the circuit and print the resulting state\n",
    "state = circuit()\n",
    "print(state)"
   ]
  },
  {
   "cell_type": "code",
   "execution_count": null,
   "id": "fa535120",
   "metadata": {},
   "outputs": [],
   "source": [
    "import pennylane as qml\n",
    "from pennylane import numpy as np\n",
    "\n",
    "# Define a 2-qubit device\n",
    "dev = qml.device(\"default.qubit\", wires=2)\n",
    "\n",
    "@qml.qnode(dev)\n",
    "def circuit():\n",
    "    # Apply Hadamard gate to the first qubit\n",
    "    qml.Hadamard(wires=0)\n",
    "    \n",
    "    # Apply CNOT with control=0, target=1\n",
    "    qml.CNOT(wires=[0, 1])\n",
    "    \n",
    "    # Return the state vector to see the resulting state\n",
    "    return qml.state()\n",
    "\n",
    "# Run the circuit and print the resulting quantum state\n",
    "state = circuit()\n",
    "print(state)"
   ]
  },
  {
   "cell_type": "code",
   "execution_count": null,
   "id": "43dbbe90",
   "metadata": {},
   "outputs": [],
   "source": [
    "qml.draw_mpl(circuit)()"
   ]
  },
  {
   "cell_type": "code",
   "execution_count": null,
   "id": "09edf183",
   "metadata": {},
   "outputs": [],
   "source": [
    "dev = qml.device(\"default.qubit\", wires=2)\n",
    "\n",
    "@qml.qnode(dev)\n",
    "def circuit():\n",
    "    qml.Hadamard(wires=0)\n",
    "    qml.CNOT(wires=[0, 1])\n",
    "    return qml.state()"
   ]
  },
  {
   "cell_type": "code",
   "execution_count": null,
   "id": "e9ddd814",
   "metadata": {},
   "outputs": [],
   "source": [
    "circuit()"
   ]
  },
  {
   "cell_type": "code",
   "execution_count": null,
   "id": "be5980ae",
   "metadata": {},
   "outputs": [],
   "source": [
    "from utils import plot_hist\n",
    "plot_hist(circuit())"
   ]
  },
  {
   "cell_type": "markdown",
   "id": "5b6908fd",
   "metadata": {},
   "source": [
    "## 🧮 Expectation Value of the Z Operator in a Quantum Circuit\n",
    "\n",
    "Compute the expectation value of the Pauli-Z operator $ \\langle \\sigma_z \\rangle $ using:\n",
    "\n",
    "```python\n",
    "qml.expval(qml.PauliZ(0))\n",
    "```\n",
    "\n",
    "### The Z Gate (Operator) in the Computational Basis\n",
    "\n",
    "\n",
    "\n",
    "This operator measures the difference between the probability that a qubit is in the state $\\ket{0}$ and the probability that it is in the state $ \\ket{1} $.\n",
    "\n",
    "In general, the expectation value (i.e., the average result of a measurement in the Z basis) is given by:\n",
    "$$\n",
    "\\langle \\textbf{Z} \\rangle = \\bra{\\psi} \\textbf{Z} \\ket{\\psi}\n",
    "$$\n",
    "\n",
    "Let:\n",
    "$$\n",
    "\\ket{\\psi} = \\alpha\\ket{0} + \\beta\\ket{1}\n",
    "$$\n",
    "then:\n",
    "$$\n",
    "\\bra{\\psi} = \\alpha^*\\bra{0} + \\beta^*\\bra{1}\n",
    "$$\n",
    "\n",
    "We can compute:\n",
    "$$\n",
    "\\bra{\\psi} \\textbf{Z} \\ket{\\psi} = (\\alpha^*\\bra{0} + \\beta^*\\bra{1}) \\, \\textbf{Z} \\, (\\alpha\\ket{0} + \\beta\\ket{1}) = |\\alpha|^2 - |\\beta|^2\n",
    "$$\n",
    "\n",
    "> We can interpret $|\\alpha|^2 - |\\beta|^2$ as $Prob(0) - Prob(1)$\n",
    "\n",
    "So, for a qubit in the state  $\\ket{0}$:\n",
    "$$\n",
    "\\langle \\textbf{Z} \\rangle = 1\n",
    "$$\n",
    "\n",
    "For a qubit in the state $ \\ket{1}$:\n",
    "$$\n",
    "\\langle \\textbf{Z} \\rangle = -1\n",
    "$$\n",
    "\n",
    "And for a qubit in a superposition $ \\frac{1}{\\sqrt{2}}(\\ket{0} + \\ket{1})$:\n",
    "$$\n",
    "\\langle \\textbf{Z} \\rangle = 0\n",
    "$$\n"
   ]
  },
  {
   "cell_type": "code",
   "execution_count": null,
   "id": "557e8cc9",
   "metadata": {},
   "outputs": [],
   "source": [
    "import pennylane as qml\n",
    "\n",
    "dev = qml.device(\"default.qubit\", wires=1)\n",
    "@qml.qnode(dev)\n",
    "def qc(test='0'):\n",
    "    if test == '1':\n",
    "        qml.PauliX(wires=0)\n",
    "    return qml.expval(qml.PauliZ(wires=0))\n",
    "\n",
    "qc(), qc('1')"
   ]
  }
 ],
 "metadata": {
  "kernelspec": {
   "display_name": "Python 3",
   "language": "python",
   "name": "python3"
  },
  "language_info": {
   "name": "python",
   "version": "3.12.8"
  }
 },
 "nbformat": 4,
 "nbformat_minor": 5
}
