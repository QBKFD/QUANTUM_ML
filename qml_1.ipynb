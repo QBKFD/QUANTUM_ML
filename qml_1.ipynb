{
 "cells": [
  {
   "cell_type": "markdown",
   "id": "bd82cbfa",
   "metadata": {},
   "source": [
    "###  Quantum Circuits in PennyLane\n",
    "\n",
    "- Quantum circuits are implemented as **quantum functions**, also called **QNodes**, which are quanutm functions that behave like standard Python functions and support automatic differentiation using classical ML tools.\n",
    "- These QNodes are executed on various **devices**, such as:\n",
    "  - **simulators** (e.g., `default.qubit`, `lightning.qubit`) and,\n",
    "  - **real quantum hardware** (e.g., IBM Q, Amazon Braket, Xanadu)\n",
    "- Devices are interchangeable and define how the quantum function is executed.\n",
    "\n",
    "We can define our simulator — in this case, we will use `default.qubit`.  \n",
    "We must also specify how many **qubits** we want to use, using the `wires` parameter.\n",
    "\n",
    "Some example devices:\n",
    "\n",
    "- `default.qubit` – a simulator written in Python  \n",
    "- `lightning.qubit` – a faster simulator written in C++  \n",
    "- `default.mixed` – used for simulating **mixed quantum states**"
   ]
  },
  {
   "cell_type": "code",
   "execution_count": null,
   "id": "8574e345",
   "metadata": {},
   "outputs": [],
   "source": [
    "dev = qml.device(\"default.qubit\", wires=1)\n",
    "\n",
    "# for example \n",
    "# dev = qml.device(\"default.qubit\", wires=3)"
   ]
  },
  {
   "cell_type": "markdown",
   "id": "d40218e2",
   "metadata": {},
   "source": [
    "## QUANTUM STATES - Overview of Quantum Computing\n",
    "\n",
    "\n",
    "Computation involves storing and manipulating information. \n",
    "\n",
    "What distinguishes quantum computing from classical computing is the way in which information is represented and manipulated.\n",
    "\n",
    "### 1. Classical bits \n",
    "\n",
    "The basic unit of information in classical computing is a `bit`. \n",
    "\n",
    "A bit stores information by taking on the value (sometimes referred to as a `state`) of either 0 or 1.\n",
    "\n",
    "Classical computing can change the state of a bit by changing it from a 0 to a 1 or vice versa. \n",
    "This operation is known as a bit-flip.\n",
    "\n",
    "### 2. Quantum bits\n",
    "\n",
    "\n",
    "In quantum computing, instead of bits, information is stored in `qubits`. \n",
    "While a single bit can only be in one of 2 states at a given time, a single qubit can be in one of infinitely many states! This suggests that we might be able to handle information more efficiently with qubits than we could with bits.\n",
    "\n",
    "\n",
    "\n",
    "\n",
    "Qubit - the basic unit of quantum computation \n",
    "$$ \\ket{\\psi} = \\alpha \\ket{0} + \\beta \\ket{1}$$\n",
    "where $\\alpha$ and $\\beta$ are complex numbers called `the amplitudes`, to measure the qubit in the 0 or the 1 state. \n",
    "$$ |\\alpha|^2 + |\\beta|^2 = 1$$\n",
    "\n",
    "A general single-qubit state is described by two complex amplitudes, which require four real parameters. \n",
    "Due to the normalization constraint and the fact that a global phase is physically irrelevant, only two degrees of freedom remain. \n",
    "If we switch to spherical coordinates using angles, we can express the state as:\n",
    "\n",
    "$$ \n",
    "\\ket{\\psi} = \\cos{\\frac{\\phi}{2}} \\ket{0} + e^{i \\theta} \\sin{\\frac{\\phi}{2}}\\ket{1}\n",
    "$$\n",
    "\n",
    "\n",
    "\n",
    "---"
   ]
  },
  {
   "cell_type": "markdown",
   "id": "20b92f34",
   "metadata": {},
   "source": [
    "### Many qubits\n",
    "\n",
    "\n",
    "For two (or more qubits): $\\ket{\\psi}$, $\\ket{\\phi}$\n",
    "\n",
    "$$\n",
    "\\ket{\\psi} = \\alpha \\ket{0} + \\beta \\ket{1} = \\begin{bmatrix} \\alpha \\\\ \\beta \\end{bmatrix}\\, ,\\,\\,\n",
    "\\ket{\\phi} = \\gamma \\ket{0} + \\delta \\ket{1} = \\begin{bmatrix} \\gamma \\\\ \\delta \\end{bmatrix}\n",
    "$$\n",
    "\n",
    "Two qubits state:\n",
    "\n",
    "$$ \n",
    "\\ket{\\psi} \\otimes \\ket{\\phi} = \\begin{bmatrix} \\alpha \\gamma \\\\ \\alpha \\delta \\\\ \\beta \\gamma \\\\ \\beta \\delta \\end{bmatrix} = \\alpha \\gamma \\ket{0} \\otimes \\ket{0} + \\beta \\delta \\ket{1} \\otimes \\ket{0}  + \\alpha \\delta \\ket{0} \\otimes \\ket{1}  + \\beta \\delta \\ket{1} \\otimes \\ket{1} \n",
    "$$\n",
    "we can write it as \n",
    "$$ \n",
    "\\ket{\\psi \\phi} = \\alpha \\gamma \\ket{00} + \\beta \\delta \\ket{10}  + \\alpha \\delta \\ket{01}  + \\beta \\delta \\ket{11} \n",
    "$$\n",
    "where:\n",
    "$$\n",
    "\\ket{00} = \\begin{bmatrix} 1 \\\\ 0 \\\\ 0 \\\\ 0 \\end{bmatrix}, \\, \\, \n",
    "\\ket{01} = \\begin{bmatrix} 0 \\\\ 1 \\\\ 0 \\\\ 0 \\end{bmatrix}, \\, \\,\n",
    "\\ket{10} = \\begin{bmatrix} 0 \\\\ 0 \\\\ 1 \\\\ 0 \\end{bmatrix}, \\, \\,\n",
    "\\ket{11} = \\begin{bmatrix} 0 \\\\ 0 \\\\ 0 \\\\ 1 \\end{bmatrix}\n",
    "$$\n",
    "\n",
    "After renumering: \n",
    "$$ \n",
    "\\ket{\\Phi} = c_0 \\ket{0} + c_1 \\ket{1}  + c_2 \\ket{2}  + c_3 \\ket{3}\n",
    " $$\n",
    "with\n",
    "$$\n",
    "|c_0|^2 + |c_1|^2 + |c_2|^2 + |c_3|^2 = 1\n",
    "$$\n",
    "\n",
    "\n",
    "If there exist states $\\ket{\\phi_1}$ and $\\ket{\\phi_2}$ such that\n",
    "$$\n",
    "\\ket{\\psi} = \\ket{\\phi_1} \\otimes \\ket{\\phi_2}\n",
    "$$\n",
    "then the state $\\ket{\\psi}$ is called **separable**.\n",
    "\n",
    "Let’s check if there exists a case where a two-qubit system state cannot be represented as a tensor product of its subsystems.  \n",
    "\n",
    "To verify this, let’s see if there are numbers $c_0, c_1, c_2, c_3$ for which it is **impossible** to find $\\alpha, \\beta, \\gamma, \\delta$ that satisfy the system of equations:\n",
    "$$\n",
    "c_0 = \\alpha \\gamma, \\quad c_1 = \\alpha \\delta, \\quad c_2 = \\beta \\gamma, \\quad c_3 = \\beta \\delta\n",
    "$$\n",
    "\n",
    "Consider the state\n",
    "$$\n",
    "\\ket{\\text{bell}} = \\frac{1}{\\sqrt{2}} (\\ket{00} + \\ket{11})\n",
    "$$\n",
    "\n",
    "Assume that the `bell` state can be written in the form:\n",
    "$$\n",
    "\\alpha \\gamma \\ket{0} + \\beta \\delta \\ket{1} + \\alpha \\delta \\ket{2} + \\beta \\delta \\ket{3}\n",
    "$$\n",
    "\n",
    "For the `bell` state to be separable, the following system of equations must hold:\n",
    "\n",
    "$$\n",
    "\\begin{cases}\n",
    "\\alpha \\gamma = \\frac{1}{\\sqrt{2}} \\\\\n",
    "\\alpha \\delta = 0 \\\\\n",
    "\\beta \\gamma = 0 \\\\\n",
    "\\beta \\delta = \\frac{1}{\\sqrt{2}}\n",
    "\\end{cases}\n",
    "$$\n",
    "\n",
    "From the second equation, there are two possibilities: either $\\alpha = 0$ or $\\delta = 0$.  \n",
    "If $\\alpha = 0$, then the first condition cannot be satisfied.  \n",
    "If $\\delta = 0$, then the fourth condition cannot be satisfied.  \n",
    "This leads to a contradiction.\n",
    "## Entanglement of Qubits\n",
    "Qubits can be entangled with each other, creating correlationms that don't exist in classical systems. When qubits are entangled, measuring one instantly affects the others, regardless of distance. \n",
    "\n",
    "For instance, in a ML problem where you need to capture complex relationships between many features, entangled qubits can naturally encode these multi-dimensional correlations in their quantum state.\n",
    "\n",
    "\n",
    "#### This implies that the `bell` state is not separable and is an __entangled state__.  \n",
    "These states have very unintuitive properties. They are related to the famous EPR paradox and so-called Bell inequalities.\n",
    "\n",
    "> Bell entangled states, together with the principle of superposition, are fundamental quantum properties that allow for quantum computational advantages over classical computations.\n",
    "\n",
    "\n",
    "$$\n",
    "\\ket{000} = \\ket{0}\\otimes \\ket{0} \\otimes \\ket{0}\n",
    "$$"
   ]
  },
  {
   "cell_type": "markdown",
   "id": "53bb311d",
   "metadata": {},
   "source": [
    "### Superposition allows qubits to explore multiple computational paths simultaneously.\n",
    "However, there is an important caveant: when you measure the quantum system to get your final answer, the superposition collapses. So quantum algorithms need to be cleverly designed, to amplify the probability of measuring the correct answer while suppressing wrong answers."
   ]
  },
  {
   "cell_type": "markdown",
   "id": "722518f4",
   "metadata": {},
   "source": [
    "- Use `qml.state()` to return the **statevector** (for simulators)."
   ]
  },
  {
   "cell_type": "code",
   "execution_count": null,
   "id": "6519c768",
   "metadata": {},
   "outputs": [],
   "source": [
    "# This is a quantum function — PennyLane will convert it into a QNode.\n",
    "def quantum_circuit():\n",
    "    # You can include any Python logic here (loops, conditionals, etc.)\n",
    "    #qml.Hadamard(wires=0) # we count form 0 \n",
    "    return qml.state() # we return state of our circuit"
   ]
  },
  {
   "cell_type": "markdown",
   "id": "1c0dd3db",
   "metadata": {},
   "source": [
    "### Wrap the circuit using `qml.QNode`:"
   ]
  },
  {
   "cell_type": "code",
   "execution_count": null,
   "id": "84001d4d",
   "metadata": {},
   "outputs": [],
   "source": [
    "circ = qml.QNode(quantum_circuit, dev)"
   ]
  },
  {
   "cell_type": "code",
   "execution_count": null,
   "id": "06895cb1",
   "metadata": {},
   "outputs": [],
   "source": [
    "result = circ()\n",
    "print(result)"
   ]
  },
  {
   "cell_type": "markdown",
   "id": "030c39e7",
   "metadata": {},
   "source": [
    "$$\n",
    "\\ket{\\psi} = \\ket{0} = [1,0]^{T}\n",
    "$$"
   ]
  },
  {
   "cell_type": "markdown",
   "id": "7a3f0334",
   "metadata": {},
   "source": [
    "qml.draw(circ)()\n",
    "qml.draw_mpl(circ)()"
   ]
  },
  {
   "cell_type": "markdown",
   "id": "f85fdaad",
   "metadata": {},
   "source": [
    "Hadamard Gate will return:\n",
    "$$\n",
    "\\ket{\\psi} = \\frac{1}{\\sqrt{2}} \\ket{0} + \\frac{1}{\\sqrt{2}} \\ket{1}\n",
    "$$"
   ]
  },
  {
   "cell_type": "code",
   "execution_count": null,
   "id": "4f53d962",
   "metadata": {},
   "outputs": [],
   "source": [
    "dev = qml.device(\"default.qubit\", wires=1)\n",
    "\n",
    "def quantum_circuit():\n",
    "    qml.Hadamard(wires=0)\n",
    "    return qml.state()\n",
    "\n",
    "circ = qml.QNode(quantum_circuit, dev)\n",
    "\n",
    "circ()"
   ]
  },
  {
   "cell_type": "code",
   "execution_count": null,
   "id": "89520e20",
   "metadata": {},
   "outputs": [],
   "source": [
    "from math import sqrt\n",
    "print(circ()[0].real, 1/sqrt(2))\n",
    "print(circ()[0].real == 1/sqrt(2))"
   ]
  },
  {
   "cell_type": "code",
   "execution_count": null,
   "id": "2e75ecd1",
   "metadata": {},
   "outputs": [],
   "source": [
    "qml.draw(circ)()"
   ]
  },
  {
   "cell_type": "code",
   "execution_count": null,
   "id": "745d79c2",
   "metadata": {},
   "outputs": [],
   "source": [
    "qml.draw_mpl(circ)()"
   ]
  },
  {
   "cell_type": "markdown",
   "id": "85a08c8b",
   "metadata": {},
   "source": [
    "The more common way to connect a quantum function to a device is by using the @qml.qnode decorator."
   ]
  },
  {
   "cell_type": "code",
   "execution_count": null,
   "id": "f3dc11e4",
   "metadata": {},
   "outputs": [],
   "source": [
    "def mydecor(funn):\n",
    "    def wrapper():\n",
    "        funn()\n",
    "        print('wrapper function')\n",
    "    return wrapper()"
   ]
  },
  {
   "cell_type": "code",
   "execution_count": null,
   "id": "448f1d0d",
   "metadata": {},
   "outputs": [],
   "source": [
    "@mydecor\n",
    "def fun1():\n",
    "    print(\"print something\")"
   ]
  },
  {
   "cell_type": "code",
   "execution_count": null,
   "id": "175688aa",
   "metadata": {},
   "outputs": [],
   "source": [
    "dev = qml.device(\"default.qubit\", wires=1)\n",
    "\n",
    "@qml.qnode(dev)\n",
    "def qc():\n",
    "    qml.Hadamard(wires=0)\n",
    "    return qml.state()\n",
    "\n",
    "qc()"
   ]
  },
  {
   "cell_type": "code",
   "execution_count": null,
   "id": "63106ee5",
   "metadata": {},
   "outputs": [],
   "source": [
    "import matplotlib.pyplot as plt\n",
    "\n",
    "qml.drawer.use_style(\"pennylane_sketch\")\n",
    "\n",
    "fig, ax = qml.draw_mpl(qc)()\n",
    "plt.show()"
   ]
  },
  {
   "cell_type": "markdown",
   "id": "b39aeaa3",
   "metadata": {},
   "source": [
    "- Use `qml.probs()`"
   ]
  },
  {
   "cell_type": "code",
   "execution_count": null,
   "id": "8c4ef342",
   "metadata": {},
   "outputs": [],
   "source": [
    "dev = qml.device(\"default.qubit\", wires=1)\n",
    "\n",
    "@qml.qnode(dev)\n",
    "def qc():\n",
    "    qml.Hadamard(wires=0)\n",
    "    return qml.probs()\n",
    "\n",
    "qc()"
   ]
  },
  {
   "cell_type": "code",
   "execution_count": null,
   "id": "ed05daf4",
   "metadata": {},
   "outputs": [],
   "source": [
    "dev = qml.device(\"default.qubit\", wires=1)\n",
    "\n",
    "@qml.qnode(dev)\n",
    "def qc():\n",
    "    return qml.probs()\n",
    "\n",
    "results = qc()\n",
    "results"
   ]
  },
  {
   "cell_type": "markdown",
   "id": "7ab3bf8b",
   "metadata": {},
   "source": [
    "- Use `qml.sample()` and `qml.counts()`  for more realistic measurement results."
   ]
  },
  {
   "cell_type": "code",
   "execution_count": null,
   "id": "6aa47b1a",
   "metadata": {},
   "outputs": [],
   "source": [
    "dev = qml.device(\"default.qubit\", wires=1, shots=5)\n",
    "\n",
    "@qml.qnode(dev)\n",
    "def qc():\n",
    "    qml.Hadamard(wires=0)\n",
    "    return qml.sample()\n",
    "\n",
    "qc()"
   ]
  },
  {
   "cell_type": "code",
   "execution_count": null,
   "id": "78c086d5",
   "metadata": {},
   "outputs": [],
   "source": [
    "dev = qml.device(\"default.qubit\", wires=1, shots=100)\n",
    "\n",
    "@qml.qnode(dev)\n",
    "def qc():\n",
    "    qml.Hadamard(wires=0)\n",
    "    return qml.counts()\n",
    "\n",
    "results = qc()"
   ]
  },
  {
   "cell_type": "code",
   "execution_count": null,
   "id": "20f4f671",
   "metadata": {},
   "outputs": [],
   "source": [
    "type(results), results.items()"
   ]
  },
  {
   "cell_type": "markdown",
   "id": "9ba89f70",
   "metadata": {},
   "source": [
    "- Use `qml.expval()` for ML models.\n",
    "\n",
    "Before we compute the expectation value of an operator using qml.expval(), it’s important to understand how quantum operators are applied within a circuit. "
   ]
  },
  {
   "cell_type": "markdown",
   "id": "122686b3",
   "metadata": {},
   "source": [
    "## State Preparation \n",
    "\n",
    "$$\n",
    "\\ket{\\psi}=\\ket{1} = 0 \\ket{0} + 1 \\ket{1}\n",
    "$$"
   ]
  },
  {
   "cell_type": "code",
   "execution_count": null,
   "id": "d1afe3d5",
   "metadata": {},
   "outputs": [],
   "source": [
    "import pennylane as qml\n",
    "from pennylane import numpy as np\n",
    "from pennylane.ops import StatePrep\n",
    "\n",
    "dev = qml.device(\"default.qubit\", wires=1)\n",
    "\n",
    "\n",
    "state1 = np.array([0,1]) # state after initialization \n",
    "\n",
    "@qml.qnode(dev)\n",
    "def qc(state):\n",
    "    StatePrep(state, wires=0)\n",
    "    return qml.state()\n",
    "\n",
    "qc(state1).real"
   ]
  },
  {
   "cell_type": "code",
   "execution_count": null,
   "id": "00cca70f",
   "metadata": {},
   "outputs": [],
   "source": [
    "@qml.qnode(dev)\n",
    "def qc(state):\n",
    "    StatePrep(state, wires=0)\n",
    "    return qml.probs()\n",
    "\n",
    "qc(state1)"
   ]
  },
  {
   "cell_type": "markdown",
   "id": "fb19eac5",
   "metadata": {},
   "source": [
    "## EX create superposition state\n",
    "\n",
    "$$\n",
    "\\ket{\\psi}=\\frac{1}{\\sqrt{2}} (\\ket{0} + \\ket{1} ) \n",
    "$$"
   ]
  },
  {
   "cell_type": "code",
   "execution_count": null,
   "id": "4c3b507d",
   "metadata": {},
   "outputs": [],
   "source": [
    "stan = np.array([1/np.sqrt(2), 1/np.sqrt(2)])\n",
    "\n",
    "@qml.qnode(dev)\n",
    "def qc_s():\n",
    "    qml.StatePrep(stan,wires=0)\n",
    "    return qml.state()\n",
    "\n",
    "print(f\"amplitudes: {qc_s()}\")"
   ]
  },
  {
   "cell_type": "code",
   "execution_count": null,
   "id": "d3c42732",
   "metadata": {},
   "outputs": [],
   "source": [
    "@qml.qnode(dev)\n",
    "def qc_p():\n",
    "    qml.StatePrep(stan,wires=0)\n",
    "    return qml.probs()\n",
    "\n",
    "print(f\"probabilities: {qc_p()}\")\n",
    "\n",
    "print(f\"test if amp^2 = probs: {qc_s()**2 == qc_p()}\")"
   ]
  },
  {
   "cell_type": "markdown",
   "id": "893e0f8e",
   "metadata": {},
   "source": [
    "## 2 Qubits"
   ]
  },
  {
   "cell_type": "markdown",
   "id": "bb97999c",
   "metadata": {},
   "source": [
    "$$\n",
    "\\ket{\\psi}=\\ket{00}\n",
    "$$\n",
    "$$\n",
    "\\ket{\\psi}=\\ket{01}\n",
    "$$\n",
    "$$\n",
    "\\ket{\\psi}=\\ket{10}\n",
    "$$\n",
    "$$\n",
    "\\ket{\\psi}=\\ket{11}\n",
    "$$"
   ]
  },
  {
   "cell_type": "code",
   "execution_count": null,
   "id": "ab90c2d3",
   "metadata": {},
   "outputs": [],
   "source": [
    "dev = qml.device(\"default.qubit\", wires=2)\n",
    "@qml.qnode(dev)\n",
    "def qc():\n",
    "    return qml.state()\n",
    "\n",
    "qc().real"
   ]
  },
  {
   "cell_type": "markdown",
   "id": "5fa3ef67",
   "metadata": {},
   "source": [
    "$$\n",
    "\\ket{\\psi}=\\frac{1}{2}\\left( \\ket{00} + \\ket{01} + \\ket{10} + \\ket{11} \\right)\n",
    "$$"
   ]
  },
  {
   "cell_type": "code",
   "execution_count": null,
   "id": "9b6a33a1",
   "metadata": {},
   "outputs": [],
   "source": [
    "dev = qml.device(\"default.qubit\", wires=2)\n",
    "\n",
    "stan = np.array([1/2, 1/2, 1/2, 1/2])\n",
    "\n",
    "prawd = [i**2 for i in stan]\n",
    "print(f\"test: sum of probs {np.sum(prawd)}\")\n",
    "\n",
    "@qml.qnode(dev)\n",
    "def qc():\n",
    "    StatePrep(stan, wires=[0,1])\n",
    "    return qml.state()\n",
    "\n",
    "qc()"
   ]
  },
  {
   "cell_type": "markdown",
   "id": "649109ba",
   "metadata": {},
   "source": [
    "\n",
    "\n",
    "Define a state with parameter $\\theta$\n",
    "\n",
    "$$ \n",
    "\\ket{\\psi} = \\cos{\\frac{\\theta}{2}} \\ket{0} +\\sin{\\frac{\\theta}{2}}\\ket{1}\n",
    "$$\n",
    "\n",
    "preapare state with $\\ket{0}$ , $\\ket{1}$ and  $\\frac{1}{\\sqrt{2}} (\\ket{0} + \\ket{1} )$\n",
    "\n",
    "```python\n",
    "def new_state(theta):\n",
    "    pass # Your Code here\n",
    "\n",
    "@qml.qnode(dev)\n",
    "def qc(theta):\n",
    "    pass\n",
    "\n",
    "qc()\n",
    "```"
   ]
  },
  {
   "cell_type": "code",
   "execution_count": null,
   "id": "5949babc",
   "metadata": {},
   "outputs": [],
   "source": [
    "def moj_stan(theta):\n",
    "    return np.array([np.cos(theta/2), np.sin(theta/2)])\n",
    "\n",
    "dev = qml.device('default.qubit', wires=1)\n",
    "@qml.qnode(dev)\n",
    "def qc(theta):\n",
    "    StatePrep(moj_stan(theta), wires=0)\n",
    "    return qml.probs()"
   ]
  },
  {
   "cell_type": "code",
   "execution_count": null,
   "id": "6d06b899",
   "metadata": {},
   "outputs": [],
   "source": [
    "qc(0.12*np.pi)"
   ]
  }
 ],
 "metadata": {
  "language_info": {
   "name": "python"
  }
 },
 "nbformat": 4,
 "nbformat_minor": 5
}
